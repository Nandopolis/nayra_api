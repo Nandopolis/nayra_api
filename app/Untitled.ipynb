{
 "cells": [
  {
   "cell_type": "code",
   "execution_count": 11,
   "metadata": {},
   "outputs": [],
   "source": [
    "from fsm_parser import JsonFsm\n",
    "from pprint import pprint\n",
    "\n",
    "parser = JsonFsm('../files/programs/2.json')\n",
    "parser.loadJSON()"
   ]
  },
  {
   "cell_type": "code",
   "execution_count": 14,
   "metadata": {},
   "outputs": [
    {
     "name": "stdout",
     "output_type": "stream",
     "text": [
      "{u'2': {u'data': {u'audio': 1},\n",
      "        u'id': 2,\n",
      "        u'inputs': {},\n",
      "        u'name': u'Presentation',\n",
      "        u'outputs': {u'end': {u'connections': [{u'data': {u'pins': []},\n",
      "                                                u'input': u'start',\n",
      "                                                u'node': 3}]}},\n",
      "        u'position': [-452, -186]},\n",
      " u'3': {u'data': {},\n",
      "        u'id': 3,\n",
      "        u'inputs': {u'start': {u'connections': [{u'data': {u'pins': []},\n",
      "                                                 u'node': 2,\n",
      "                                                 u'output': u'end'}]}},\n",
      "        u'name': u'Recognition: Saludos',\n",
      "        u'outputs': {u'dia': {u'connections': [{u'data': {u'pins': []},\n",
      "                                                u'input': u'start',\n",
      "                                                u'node': 4}]},\n",
      "                     u'noche': {u'connections': [{u'data': {u'pins': []},\n",
      "                                                  u'input': u'start',\n",
      "                                                  u'node': 6}]},\n",
      "                     u'tarde': {u'connections': [{u'data': {u'pins': []},\n",
      "                                                  u'input': u'start',\n",
      "                                                  u'node': 5}]}},\n",
      "        u'position': [-160.00328731097963, -157.8310322156476]},\n",
      " u'4': {u'data': {u'audio': 2},\n",
      "        u'id': 4,\n",
      "        u'inputs': {u'start': {u'connections': [{u'data': {u'pins': []},\n",
      "                                                 u'node': 3,\n",
      "                                                 u'output': u'dia'}]}},\n",
      "        u'name': u'Audio',\n",
      "        u'outputs': {u'end': {u'connections': []}},\n",
      "        u'position': [130.54477319507384, -235.0017277619092]},\n",
      " u'5': {u'data': {u'audio': 3},\n",
      "        u'id': 5,\n",
      "        u'inputs': {u'start': {u'connections': [{u'data': {u'pins': []},\n",
      "                                                 u'node': 3,\n",
      "                                                 u'output': u'tarde'}]}},\n",
      "        u'name': u'Audio',\n",
      "        u'outputs': {u'end': {u'connections': []}},\n",
      "        u'position': [130.69848274262822, -20.941304136403332]},\n",
      " u'6': {u'data': {u'audio': 4},\n",
      "        u'id': 6,\n",
      "        u'inputs': {u'start': {u'connections': [{u'data': {u'pins': []},\n",
      "                                                 u'node': 3,\n",
      "                                                 u'output': u'noche'}]}},\n",
      "        u'name': u'Audio',\n",
      "        u'outputs': {u'end': {u'connections': []}},\n",
      "        u'position': [124.55082619114205, 157.33984557783108]}}\n"
     ]
    }
   ],
   "source": [
    "parser.parseJSON()\n",
    "pprint(parser.json_data)"
   ]
  }
 ],
 "metadata": {
  "kernelspec": {
   "display_name": "Python 2",
   "language": "python",
   "name": "python2"
  },
  "language_info": {
   "codemirror_mode": {
    "name": "ipython",
    "version": 2
   },
   "file_extension": ".py",
   "mimetype": "text/x-python",
   "name": "python",
   "nbconvert_exporter": "python",
   "pygments_lexer": "ipython2",
   "version": "2.7.15rc1"
  }
 },
 "nbformat": 4,
 "nbformat_minor": 2
}
